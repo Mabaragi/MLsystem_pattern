{
 "cells": [
  {
   "cell_type": "code",
   "execution_count": 10,
   "id": "initial_id",
   "metadata": {
    "collapsed": true,
    "ExecuteTime": {
     "end_time": "2024-05-03T13:32:01.496282Z",
     "start_time": "2024-05-03T13:32:01.492485Z"
    }
   },
   "outputs": [],
   "source": [
    "from bson import ObjectId\n",
    "\n",
    "ID = ObjectId()\n"
   ]
  },
  {
   "cell_type": "code",
   "outputs": [
    {
     "name": "stdout",
     "output_type": "stream",
     "text": [
      "1\n",
      "1 validation error for constrained-int\n",
      "  Input should be greater than 0 [type=greater_than, input_value=-1, input_type=int]\n",
      "    For further information visit https://errors.pydantic.dev/2.5/v/greater_than\n"
     ]
    }
   ],
   "source": [
    "from typing_extensions import Annotated\n",
    "\n",
    "from pydantic import Field, TypeAdapter, ValidationError\n",
    "\n",
    "PositiveInt = Annotated[int, Field(gt=0)]\n",
    "\n",
    "ta = TypeAdapter(PositiveInt)\n",
    "\n",
    "print(ta.validate_python(1))\n",
    "#> 1\n",
    "\n",
    "try:\n",
    "    ta.validate_python(-1)\n",
    "except ValidationError as exc:\n",
    "    print(exc)\n",
    "    \"\"\"\n",
    "    1 validation error for constrained-int\n",
    "      Input should be greater than 0 [type=greater_than, input_value=-1, input_type=int]\n",
    "    \"\"\""
   ],
   "metadata": {
    "collapsed": false,
    "ExecuteTime": {
     "end_time": "2024-05-03T13:44:22.726136Z",
     "start_time": "2024-05-03T13:44:22.719603Z"
    }
   },
   "id": "b265c7b985bb9002",
   "execution_count": 13
  }
 ],
 "metadata": {
  "kernelspec": {
   "display_name": "Python 3",
   "language": "python",
   "name": "python3"
  },
  "language_info": {
   "codemirror_mode": {
    "name": "ipython",
    "version": 2
   },
   "file_extension": ".py",
   "mimetype": "text/x-python",
   "name": "python",
   "nbconvert_exporter": "python",
   "pygments_lexer": "ipython2",
   "version": "2.7.6"
  }
 },
 "nbformat": 4,
 "nbformat_minor": 5
}
